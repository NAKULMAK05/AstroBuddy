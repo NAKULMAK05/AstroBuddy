{
 "cells": [
  {
   "cell_type": "code",
   "execution_count": 3,
   "metadata": {
    "colab": {
     "base_uri": "https://localhost:8080/"
    },
    "id": "scbtUtj4EZ27",
    "outputId": "e82f5dad-eb84-4be0-d085-5c6d06b8219e"
   },
   "outputs": [
    {
     "name": "stdout",
     "output_type": "stream",
     "text": [
      "Collecting pyngrok\n",
      "  Downloading pyngrok-7.2.3-py3-none-any.whl.metadata (8.7 kB)\n",
      "Requirement already satisfied: flatlib in /usr/local/lib/python3.11/dist-packages (0.2.3)\n",
      "Requirement already satisfied: plotly in /usr/local/lib/python3.11/dist-packages (5.24.1)\n",
      "Requirement already satisfied: numpy in /usr/local/lib/python3.11/dist-packages (1.26.4)\n",
      "Requirement already satisfied: PyYAML>=5.1 in /usr/local/lib/python3.11/dist-packages (from pyngrok) (6.0.2)\n",
      "Requirement already satisfied: pyswisseph==2.08.00-1 in /usr/local/lib/python3.11/dist-packages (from flatlib) (2.8.0.post1)\n",
      "Requirement already satisfied: tenacity>=6.2.0 in /usr/local/lib/python3.11/dist-packages (from plotly) (9.0.0)\n",
      "Requirement already satisfied: packaging in /usr/local/lib/python3.11/dist-packages (from plotly) (24.2)\n",
      "Downloading pyngrok-7.2.3-py3-none-any.whl (23 kB)\n",
      "Installing collected packages: pyngrok\n",
      "Successfully installed pyngrok-7.2.3\n"
     ]
    }
   ],
   "source": [
    "!pip install pyngrok flatlib plotly numpy"
   ]
  },
  {
   "cell_type": "code",
   "execution_count": 5,
   "metadata": {
    "colab": {
     "base_uri": "https://localhost:8080/"
    },
    "id": "tk4_BDUeFvrZ",
    "outputId": "c4e99ee7-5963-4022-d52b-5e518bc428aa"
   },
   "outputs": [
    {
     "name": "stdout",
     "output_type": "stream",
     "text": [
      "Authtoken saved to configuration file: /root/.config/ngrok/ngrok.yml\n"
     ]
    }
   ],
   "source": [
    "!ngrok config add-authtoken 2roAQEoHDGIzQfgUcMwBMm69QUf_2xjKVe2ibjEAM6H2VwQ9L"
   ]
  },
  {
   "cell_type": "code",
   "execution_count": 7,
   "metadata": {
    "colab": {
     "base_uri": "https://localhost:8080/"
    },
    "id": "2WIzPOApD9So",
    "outputId": "67396445-c95c-450a-f01d-83dd587e964a"
   },
   "outputs": [
    {
     "name": "stdout",
     "output_type": "stream",
     "text": [
      "Public URL: NgrokTunnel: \"https://6960-34-106-4-160.ngrok-free.app\" -> \"http://localhost:5000\"\n",
      " * Serving Flask app '__main__'\n",
      " * Debug mode: off\n"
     ]
    },
    {
     "name": "stderr",
     "output_type": "stream",
     "text": [
      "INFO:werkzeug:\u001b[31m\u001b[1mWARNING: This is a development server. Do not use it in a production deployment. Use a production WSGI server instead.\u001b[0m\n",
      " * Running on http://127.0.0.1:5000\n",
      "INFO:werkzeug:\u001b[33mPress CTRL+C to quit\u001b[0m\n",
      "INFO:werkzeug:127.0.0.1 - - [18/Jan/2025 16:38:13] \"POST /api/birth-chart HTTP/1.1\" 200 -\n",
      "INFO:werkzeug:127.0.0.1 - - [18/Jan/2025 16:38:22] \"POST /api/house-chart HTTP/1.1\" 200 -\n"
     ]
    }
   ],
   "source": [
    "from flask import Flask, request, jsonify\n",
    "from pyngrok import ngrok\n",
    "from flatlib import chart, const\n",
    "from flatlib.datetime import Datetime, Time\n",
    "from flatlib.geopos import GeoPos\n",
    "import plotly.graph_objects as go\n",
    "import numpy as np\n",
    "import json\n",
    "\n",
    "app = Flask(__name__)\n",
    "\n",
    "# Endpoint 1: Generate Birth Chart\n",
    "@app.route('/api/birth-chart', methods=['POST'])\n",
    "def birth_chart():\n",
    "    data = request.json\n",
    "    # Extract parameters\n",
    "    birth_date = data['birth_date']\n",
    "    birth_time = data['birth_time']\n",
    "    birth_lat = float(data['birth_lat'])\n",
    "    birth_lon = float(data['birth_lon'])\n",
    "\n",
    "    # Generate Flatlib chart\n",
    "    birth_datetime = Datetime(birth_date.replace('-', '/'), Time(birth_time))\n",
    "    birth_location = GeoPos(birth_lat, birth_lon)\n",
    "    birth_chart = chart.Chart(birth_datetime, birth_location)\n",
    "\n",
    "    # Prepare chart data\n",
    "    houses = [(house.id, house.sign, house.lon) for house in birth_chart.houses]\n",
    "    planets = [(obj.id, obj.sign, obj.signlon) for obj in birth_chart.objects]\n",
    "\n",
    "    result = {\n",
    "        \"houses\": houses,\n",
    "        \"planets\": planets\n",
    "    }\n",
    "\n",
    "    return jsonify(result)\n",
    "\n",
    "# Endpoint 2: Generate 12-House Chart Visualization\n",
    "@app.route('/api/house-chart', methods=['POST'])\n",
    "def house_chart():\n",
    "    # Define house descriptions\n",
    "    houses_descriptions = [\n",
    "        \"Self Appearance, Beginnings, Identity, Approach to Life\",\n",
    "        \"Money, Work, Income, Values, Material Possessions\",\n",
    "        \"The Mind, Communication, Siblings, Neighbors\",\n",
    "        \"Home, Roots, Family, Self-Care, Emotions\",\n",
    "        \"Romance, Love, Creativity, Fertility, Joy\",\n",
    "        \"Health, Fitness, Work, Pets, Organization\",\n",
    "        \"Relationships, Marriage, Partnerships, Sharing\",\n",
    "        \"Sex, Intimacy, Shared Finances, Transformation\",\n",
    "        \"Travel, Wisdom, Philosophy, Higher Education\",\n",
    "        \"Career, Status, Reputation, Fame, Public Image\",\n",
    "        \"Friends, Groups, Hopes, Humanitarianism\",\n",
    "        \"Endings, Closure, Solitude, Spirituality, Subconscious\",\n",
    "    ]\n",
    "\n",
    "    # Angular positions for the houses\n",
    "    angles = np.linspace(0, 360, 13)\n",
    "    angle_midpoints = [(angles[i] + angles[i+1]) / 2 for i in range(12)]\n",
    "\n",
    "    # Radial positions and colors\n",
    "    r_values = [0.5, 1]\n",
    "    colors = [\n",
    "        \"rgba(255, 99, 71, 0.5)\",  # Light Coral\n",
    "        \"rgba(135, 206, 250, 0.5)\",  # Light Sky Blue\n",
    "        \"rgba(144, 238, 144, 0.5)\",  # Light Green\n",
    "        \"rgba(255, 182, 193, 0.5)\",  # Light Pink\n",
    "        \"rgba(255, 215, 0, 0.5)\",  # Gold\n",
    "        \"rgba(173, 216, 230, 0.5)\",  # Light Blue\n",
    "        \"rgba(240, 128, 128, 0.5)\",  # Light Salmon\n",
    "        \"rgba(221, 160, 221, 0.5)\",  # Plum\n",
    "        \"rgba(176, 196, 222, 0.5)\",  # Light Steel Blue\n",
    "        \"rgba(255, 228, 181, 0.5)\",  # Moccasin\n",
    "        \"rgba(152, 251, 152, 0.5)\",  # Pale Green\n",
    "        \"rgba(240, 230, 140, 0.5)\",  # Khaki\n",
    "    ]\n",
    "\n",
    "    # Create Plotly figure\n",
    "    fig = go.Figure()\n",
    "    for i, desc in enumerate(houses_descriptions):\n",
    "        fig.add_trace(go.Scatterpolar(\n",
    "            r=[r_values[0], r_values[1], r_values[1], r_values[0], r_values[0]],\n",
    "            theta=[angles[i], angles[i], angles[i+1], angles[i+1], angles[i]],\n",
    "            fill='toself',\n",
    "            fillcolor=colors[i],\n",
    "            line=dict(color='black', width=1),\n",
    "            name=f\"House {i+1}\",\n",
    "            hoverinfo='text',\n",
    "            text=f\"House {i+1}<br>{desc}\"\n",
    "        ))\n",
    "\n",
    "    # Add house labels\n",
    "    for i, midpoint in enumerate(angle_midpoints):\n",
    "        fig.add_trace(go.Scatterpolar(\n",
    "            r=[1.1],\n",
    "            theta=[midpoint],\n",
    "            mode='text',\n",
    "            text=f\"{i+1}\",\n",
    "            textposition=\"top center\",\n",
    "            textfont=dict(size=12, color='black'),\n",
    "            hoverinfo='skip'\n",
    "        ))\n",
    "\n",
    "    # Configure layout\n",
    "    fig.update_layout(\n",
    "        polar=dict(\n",
    "            angularaxis=dict(visible=False),\n",
    "            radialaxis=dict(visible=False)\n",
    "        ),\n",
    "        title=\"12-House Birth Chart\",\n",
    "    )\n",
    "\n",
    "    # Return the chart as JSON\n",
    "    return jsonify(fig.to_plotly_json())\n",
    "\n",
    "# Start the Flask app and ngrok tunnel\n",
    "if __name__ == '__main__':\n",
    "    public_url = ngrok.connect(5000)\n",
    "    print(f\"Public URL: {public_url}\")\n",
    "    app.run()"
   ]
  },
  {
   "cell_type": "code",
   "execution_count": null,
   "metadata": {
    "id": "u_VuNNIqEwPG"
   },
   "outputs": [],
   "source": []
  }
 ],
 "metadata": {
  "colab": {
   "provenance": []
  },
  "kernelspec": {
   "display_name": "Python 3 (ipykernel)",
   "language": "python",
   "name": "python3"
  },
  "language_info": {
   "codemirror_mode": {
    "name": "ipython",
    "version": 3
   },
   "file_extension": ".py",
   "mimetype": "text/x-python",
   "name": "python",
   "nbconvert_exporter": "python",
   "pygments_lexer": "ipython3",
   "version": "3.11.5"
  }
 },
 "nbformat": 4,
 "nbformat_minor": 1
}
